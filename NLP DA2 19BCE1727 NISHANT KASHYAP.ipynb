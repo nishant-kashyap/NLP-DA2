{
 "cells": [
  {
   "cell_type": "markdown",
   "id": "ed619e22",
   "metadata": {},
   "source": [
    "# CSE4022 Natural Language Processing"
   ]
  },
  {
   "cell_type": "markdown",
   "id": "0dc97a84",
   "metadata": {},
   "source": [
    "# Digital Assignment 2 [Nishant Kashyap, 19BCE1727]"
   ]
  },
  {
   "cell_type": "markdown",
   "id": "61c50d8d",
   "metadata": {},
   "source": [
    "## Create a text corpus with minimum 200 words (unique contents)."
   ]
  },
  {
   "cell_type": "code",
   "execution_count": 1,
   "id": "2fd7b55f",
   "metadata": {},
   "outputs": [],
   "source": [
    "import os\n",
    "from nltk.corpus.reader.plaintext import PlaintextCorpusReader\n",
    "\n",
    "corpusdir = 'corpus'\n",
    "\n",
    "newcorpus = PlaintextCorpusReader(corpusdir, '.*')"
   ]
  },
  {
   "cell_type": "code",
   "execution_count": 2,
   "id": "8f842ef3",
   "metadata": {},
   "outputs": [
    {
     "data": {
      "text/plain": [
       "'Upon learning about the harmful effects of pollution, it is everyone’s responsibility to take some steps towards prevention. \\r\\nWe should be aware of all the possible preventive measures to help reduce every kind of pollution such as to curb air pollution,\\r\\nwe should avoid bursting crackers during any festival or using public transport or carpool to reduce air pollution or cutting down the usage of loud loudspeaker, \\r\\nand public honking would help in noise pollution. We should always be aware of this situation and take measures accordingly. \\r\\nIt’s us who should be cautious in the beginning and make everyone else surrounding us conscious as well. \\r\\nWe should take eco-friendly steps like planting more trees, reducing the usage of plastic, \\r\\nusing more sustainable products in the household etc. while talking about the pollution of the entire world, \\r\\nyou should always remember that every small step will lead to a bigger impact one day. In a nutshell, \\r\\nevery kind of pollution leaves a huge negative impact on our environment, human lives, animals etc. \\r\\nWe, as responsible citizens, must take steps towards a better tomorrow. \\r\\nWe must join hands to take various initiatives and fight against this problem. \\r\\nA lot of innocent lives are put in danger due to pollution every day. If we don’t do anything from now on or take a stand to make the earth pollution-free, \\r\\nthen the doomsday will be upon us very soon. Pollution has become a very common yet serious issue in today’s world. \\r\\nIt has been there in different forms since a long time even before human evolution such as volcanic eruptions, wildfire which lead to various photochemical reactions in the atmosphere. \\r\\nThe current concern is that it is rising day by day due to various resources of pollutants. And, one of the main pollutants are humans and man-made machines. \\r\\nIt is right to say that pollution is damaging the mother earth severely and we, humans, should play our part to prevent it from happening.'"
      ]
     },
     "execution_count": 2,
     "metadata": {},
     "output_type": "execute_result"
    }
   ],
   "source": [
    "text = newcorpus.raw().strip()\n",
    "text"
   ]
  },
  {
   "cell_type": "markdown",
   "id": "a53c672e",
   "metadata": {},
   "source": [
    "## Paragraph Segmentation"
   ]
  },
  {
   "cell_type": "code",
   "execution_count": 3,
   "id": "241c65d6",
   "metadata": {},
   "outputs": [
    {
     "name": "stderr",
     "output_type": "stream",
     "text": [
      "[nltk_data] Downloading package punkt to\n",
      "[nltk_data]     C:\\Users\\Home\\AppData\\Roaming\\nltk_data...\n",
      "[nltk_data]   Unzipping tokenizers\\punkt.zip.\n"
     ]
    },
    {
     "data": {
      "text/plain": [
       "True"
      ]
     },
     "execution_count": 3,
     "metadata": {},
     "output_type": "execute_result"
    }
   ],
   "source": [
    "import nltk\n",
    "nltk.download('punkt')"
   ]
  },
  {
   "cell_type": "code",
   "execution_count": 4,
   "id": "5a974df8",
   "metadata": {},
   "outputs": [
    {
     "name": "stdout",
     "output_type": "stream",
     "text": [
      "[[['Upon', 'learning', 'about', 'the', 'harmful', 'effects', 'of', 'pollution', ',', 'it', 'is', 'everyone', '’', 's', 'responsibility', 'to', 'take', 'some', 'steps', 'towards', 'prevention', '.'], ['We', 'should', 'be', 'aware', 'of', 'all', 'the', 'possible', 'preventive', 'measures', 'to', 'help', 'reduce', 'every', 'kind', 'of', 'pollution', 'such', 'as', 'to', 'curb', 'air', 'pollution', ',', 'we', 'should', 'avoid', 'bursting', 'crackers', 'during', 'any', 'festival', 'or', 'using', 'public', 'transport', 'or', 'carpool', 'to', 'reduce', 'air', 'pollution', 'or', 'cutting', 'down', 'the', 'usage', 'of', 'loud', 'loudspeaker', ',', 'and', 'public', 'honking', 'would', 'help', 'in', 'noise', 'pollution', '.'], ['We', 'should', 'always', 'be', 'aware', 'of', 'this', 'situation', 'and', 'take', 'measures', 'accordingly', '.'], ['It', '’', 's', 'us', 'who', 'should', 'be', 'cautious', 'in', 'the', 'beginning', 'and', 'make', 'everyone', 'else', 'surrounding', 'us', 'conscious', 'as', 'well', '.'], ['We', 'should', 'take', 'eco', '-', 'friendly', 'steps', 'like', 'planting', 'more', 'trees', ',', 'reducing', 'the', 'usage', 'of', 'plastic', ',', 'using', 'more', 'sustainable', 'products', 'in', 'the', 'household', 'etc', '.'], ['while', 'talking', 'about', 'the', 'pollution', 'of', 'the', 'entire', 'world', ',', 'you', 'should', 'always', 'remember', 'that', 'every', 'small', 'step', 'will', 'lead', 'to', 'a', 'bigger', 'impact', 'one', 'day', '.'], ['In', 'a', 'nutshell', ',', 'every', 'kind', 'of', 'pollution', 'leaves', 'a', 'huge', 'negative', 'impact', 'on', 'our', 'environment', ',', 'human', 'lives', ',', 'animals', 'etc', '.'], ['We', ',', 'as', 'responsible', 'citizens', ',', 'must', 'take', 'steps', 'towards', 'a', 'better', 'tomorrow', '.'], ['We', 'must', 'join', 'hands', 'to', 'take', 'various', 'initiatives', 'and', 'fight', 'against', 'this', 'problem', '.'], ['A', 'lot', 'of', 'innocent', 'lives', 'are', 'put', 'in', 'danger', 'due', 'to', 'pollution', 'every', 'day', '.'], ['If', 'we', 'don', '’', 't', 'do', 'anything', 'from', 'now', 'on', 'or', 'take', 'a', 'stand', 'to', 'make', 'the', 'earth', 'pollution', '-', 'free', ',', 'then', 'the', 'doomsday', 'will', 'be', 'upon', 'us', 'very', 'soon', '.'], ['Pollution', 'has', 'become', 'a', 'very', 'common', 'yet', 'serious', 'issue', 'in', 'today', '’', 's', 'world', '.'], ['It', 'has', 'been', 'there', 'in', 'different', 'forms', 'since', 'a', 'long', 'time', 'even', 'before', 'human', 'evolution', 'such', 'as', 'volcanic', 'eruptions', ',', 'wildfire', 'which', 'lead', 'to', 'various', 'photochemical', 'reactions', 'in', 'the', 'atmosphere', '.'], ['The', 'current', 'concern', 'is', 'that', 'it', 'is', 'rising', 'day', 'by', 'day', 'due', 'to', 'various', 'resources', 'of', 'pollutants', '.'], ['And', ',', 'one', 'of', 'the', 'main', 'pollutants', 'are', 'humans', 'and', 'man', '-', 'made', 'machines', '.'], ['It', 'is', 'right', 'to', 'say', 'that', 'pollution', 'is', 'damaging', 'the', 'mother', 'earth', 'severely', 'and', 'we', ',', 'humans', ',', 'should', 'play', 'our', 'part', 'to', 'prevent', 'it', 'from', 'happening', '.']]]\n"
     ]
    }
   ],
   "source": [
    "print(newcorpus.paras())"
   ]
  },
  {
   "cell_type": "markdown",
   "id": "180bb24b",
   "metadata": {},
   "source": [
    "## Sentences Segmentation"
   ]
  },
  {
   "cell_type": "code",
   "execution_count": 5,
   "id": "873a2b07",
   "metadata": {},
   "outputs": [
    {
     "name": "stdout",
     "output_type": "stream",
     "text": [
      "[['Upon', 'learning', 'about', 'the', 'harmful', 'effects', 'of', 'pollution', ',', 'it', 'is', 'everyone', '’', 's', 'responsibility', 'to', 'take', 'some', 'steps', 'towards', 'prevention', '.'], ['We', 'should', 'be', 'aware', 'of', 'all', 'the', 'possible', 'preventive', 'measures', 'to', 'help', 'reduce', 'every', 'kind', 'of', 'pollution', 'such', 'as', 'to', 'curb', 'air', 'pollution', ',', 'we', 'should', 'avoid', 'bursting', 'crackers', 'during', 'any', 'festival', 'or', 'using', 'public', 'transport', 'or', 'carpool', 'to', 'reduce', 'air', 'pollution', 'or', 'cutting', 'down', 'the', 'usage', 'of', 'loud', 'loudspeaker', ',', 'and', 'public', 'honking', 'would', 'help', 'in', 'noise', 'pollution', '.'], ...]\n"
     ]
    }
   ],
   "source": [
    "print(newcorpus.sents())"
   ]
  },
  {
   "cell_type": "code",
   "execution_count": 6,
   "id": "8019e794",
   "metadata": {},
   "outputs": [
    {
     "name": "stdout",
     "output_type": "stream",
     "text": [
      "['Upon learning about the harmful effects of pollution, it is everyone’s responsibility to take some steps towards prevention.', 'We should be aware of all the possible preventive measures to help reduce every kind of pollution such as to curb air pollution,\\r\\nwe should avoid bursting crackers during any festival or using public transport or carpool to reduce air pollution or cutting down the usage of loud loudspeaker, \\r\\nand public honking would help in noise pollution.', 'We should always be aware of this situation and take measures accordingly.', 'It’s us who should be cautious in the beginning and make everyone else surrounding us conscious as well.', 'We should take eco-friendly steps like planting more trees, reducing the usage of plastic, \\r\\nusing more sustainable products in the household etc.', 'while talking about the pollution of the entire world, \\r\\nyou should always remember that every small step will lead to a bigger impact one day.', 'In a nutshell, \\r\\nevery kind of pollution leaves a huge negative impact on our environment, human lives, animals etc.', 'We, as responsible citizens, must take steps towards a better tomorrow.', 'We must join hands to take various initiatives and fight against this problem.', 'A lot of innocent lives are put in danger due to pollution every day.', 'If we don’t do anything from now on or take a stand to make the earth pollution-free, \\r\\nthen the doomsday will be upon us very soon.', 'Pollution has become a very common yet serious issue in today’s world.', 'It has been there in different forms since a long time even before human evolution such as volcanic eruptions, wildfire which lead to various photochemical reactions in the atmosphere.', 'The current concern is that it is rising day by day due to various resources of pollutants.', 'And, one of the main pollutants are humans and man-made machines.', 'It is right to say that pollution is damaging the mother earth severely and we, humans, should play our part to prevent it from happening.']\n"
     ]
    }
   ],
   "source": [
    "print(nltk.sent_tokenize(text))"
   ]
  },
  {
   "cell_type": "markdown",
   "id": "c3a34117",
   "metadata": {},
   "source": [
    "## Words Segementation"
   ]
  },
  {
   "cell_type": "code",
   "execution_count": 7,
   "id": "c94704f7",
   "metadata": {},
   "outputs": [
    {
     "name": "stdout",
     "output_type": "stream",
     "text": [
      "['Upon', 'learning', 'about', 'the', 'harmful', ...]\n"
     ]
    }
   ],
   "source": [
    "print(newcorpus.words())"
   ]
  },
  {
   "cell_type": "code",
   "execution_count": 8,
   "id": "8b9759da",
   "metadata": {},
   "outputs": [
    {
     "name": "stdout",
     "output_type": "stream",
     "text": [
      "['Upon', 'learning', 'about', 'the', 'harmful', 'effects', 'of', 'pollution', ',', 'it', 'is', 'everyone', '’', 's', 'responsibility', 'to', 'take', 'some', 'steps', 'towards', 'prevention', '.', 'We', 'should', 'be', 'aware', 'of', 'all', 'the', 'possible', 'preventive', 'measures', 'to', 'help', 'reduce', 'every', 'kind', 'of', 'pollution', 'such', 'as', 'to', 'curb', 'air', 'pollution', ',', 'we', 'should', 'avoid', 'bursting', 'crackers', 'during', 'any', 'festival', 'or', 'using', 'public', 'transport', 'or', 'carpool', 'to', 'reduce', 'air', 'pollution', 'or', 'cutting', 'down', 'the', 'usage', 'of', 'loud', 'loudspeaker', ',', 'and', 'public', 'honking', 'would', 'help', 'in', 'noise', 'pollution', '.', 'We', 'should', 'always', 'be', 'aware', 'of', 'this', 'situation', 'and', 'take', 'measures', 'accordingly', '.', 'It', '’', 's', 'us', 'who', 'should', 'be', 'cautious', 'in', 'the', 'beginning', 'and', 'make', 'everyone', 'else', 'surrounding', 'us', 'conscious', 'as', 'well', '.', 'We', 'should', 'take', 'eco-friendly', 'steps', 'like', 'planting', 'more', 'trees', ',', 'reducing', 'the', 'usage', 'of', 'plastic', ',', 'using', 'more', 'sustainable', 'products', 'in', 'the', 'household', 'etc', '.', 'while', 'talking', 'about', 'the', 'pollution', 'of', 'the', 'entire', 'world', ',', 'you', 'should', 'always', 'remember', 'that', 'every', 'small', 'step', 'will', 'lead', 'to', 'a', 'bigger', 'impact', 'one', 'day', '.', 'In', 'a', 'nutshell', ',', 'every', 'kind', 'of', 'pollution', 'leaves', 'a', 'huge', 'negative', 'impact', 'on', 'our', 'environment', ',', 'human', 'lives', ',', 'animals', 'etc', '.', 'We', ',', 'as', 'responsible', 'citizens', ',', 'must', 'take', 'steps', 'towards', 'a', 'better', 'tomorrow', '.', 'We', 'must', 'join', 'hands', 'to', 'take', 'various', 'initiatives', 'and', 'fight', 'against', 'this', 'problem', '.', 'A', 'lot', 'of', 'innocent', 'lives', 'are', 'put', 'in', 'danger', 'due', 'to', 'pollution', 'every', 'day', '.', 'If', 'we', 'don', '’', 't', 'do', 'anything', 'from', 'now', 'on', 'or', 'take', 'a', 'stand', 'to', 'make', 'the', 'earth', 'pollution-free', ',', 'then', 'the', 'doomsday', 'will', 'be', 'upon', 'us', 'very', 'soon', '.', 'Pollution', 'has', 'become', 'a', 'very', 'common', 'yet', 'serious', 'issue', 'in', 'today', '’', 's', 'world', '.', 'It', 'has', 'been', 'there', 'in', 'different', 'forms', 'since', 'a', 'long', 'time', 'even', 'before', 'human', 'evolution', 'such', 'as', 'volcanic', 'eruptions', ',', 'wildfire', 'which', 'lead', 'to', 'various', 'photochemical', 'reactions', 'in', 'the', 'atmosphere', '.', 'The', 'current', 'concern', 'is', 'that', 'it', 'is', 'rising', 'day', 'by', 'day', 'due', 'to', 'various', 'resources', 'of', 'pollutants', '.', 'And', ',', 'one', 'of', 'the', 'main', 'pollutants', 'are', 'humans', 'and', 'man-made', 'machines', '.', 'It', 'is', 'right', 'to', 'say', 'that', 'pollution', 'is', 'damaging', 'the', 'mother', 'earth', 'severely', 'and', 'we', ',', 'humans', ',', 'should', 'play', 'our', 'part', 'to', 'prevent', 'it', 'from', 'happening', '.']\n"
     ]
    }
   ],
   "source": [
    "print(nltk.word_tokenize(text))"
   ]
  },
  {
   "cell_type": "markdown",
   "id": "603d19ed",
   "metadata": {},
   "source": [
    "## Convert to Lowercase"
   ]
  },
  {
   "cell_type": "code",
   "execution_count": 9,
   "id": "bfb57d87",
   "metadata": {},
   "outputs": [
    {
     "data": {
      "text/plain": [
       "'upon learning about the harmful effects of pollution, it is everyone’s responsibility to take some steps towards prevention. \\r\\nwe should be aware of all the possible preventive measures to help reduce every kind of pollution such as to curb air pollution,\\r\\nwe should avoid bursting crackers during any festival or using public transport or carpool to reduce air pollution or cutting down the usage of loud loudspeaker, \\r\\nand public honking would help in noise pollution. we should always be aware of this situation and take measures accordingly. \\r\\nit’s us who should be cautious in the beginning and make everyone else surrounding us conscious as well. \\r\\nwe should take eco-friendly steps like planting more trees, reducing the usage of plastic, \\r\\nusing more sustainable products in the household etc. while talking about the pollution of the entire world, \\r\\nyou should always remember that every small step will lead to a bigger impact one day. in a nutshell, \\r\\nevery kind of pollution leaves a huge negative impact on our environment, human lives, animals etc. \\r\\nwe, as responsible citizens, must take steps towards a better tomorrow. \\r\\nwe must join hands to take various initiatives and fight against this problem. \\r\\na lot of innocent lives are put in danger due to pollution every day. if we don’t do anything from now on or take a stand to make the earth pollution-free, \\r\\nthen the doomsday will be upon us very soon. pollution has become a very common yet serious issue in today’s world. \\r\\nit has been there in different forms since a long time even before human evolution such as volcanic eruptions, wildfire which lead to various photochemical reactions in the atmosphere. \\r\\nthe current concern is that it is rising day by day due to various resources of pollutants. and, one of the main pollutants are humans and man-made machines. \\r\\nit is right to say that pollution is damaging the mother earth severely and we, humans, should play our part to prevent it from happening.'"
      ]
     },
     "execution_count": 9,
     "metadata": {},
     "output_type": "execute_result"
    }
   ],
   "source": [
    "text=text.lower()\n",
    "text"
   ]
  },
  {
   "cell_type": "markdown",
   "id": "a6deb99c",
   "metadata": {},
   "source": [
    "## Stop Words Removal"
   ]
  },
  {
   "cell_type": "code",
   "execution_count": 10,
   "id": "316e3643",
   "metadata": {},
   "outputs": [
    {
     "name": "stderr",
     "output_type": "stream",
     "text": [
      "[nltk_data] Downloading package stopwords to\n",
      "[nltk_data]     C:\\Users\\Home\\AppData\\Roaming\\nltk_data...\n",
      "[nltk_data]   Unzipping corpora\\stopwords.zip.\n"
     ]
    },
    {
     "data": {
      "text/plain": [
       "True"
      ]
     },
     "execution_count": 10,
     "metadata": {},
     "output_type": "execute_result"
    }
   ],
   "source": [
    "import nltk\n",
    "nltk.download('stopwords')"
   ]
  },
  {
   "cell_type": "code",
   "execution_count": 11,
   "id": "330aa1ff",
   "metadata": {},
   "outputs": [
    {
     "name": "stdout",
     "output_type": "stream",
     "text": [
      "['upon', 'learning', 'harmful', 'effects', 'pollution', ',', 'everyone', '’', 'responsibility', 'take', 'steps', 'towards', 'prevention', '.', 'aware', 'possible', 'preventive', 'measures', 'help', 'reduce', 'every', 'kind', 'pollution', 'curb', 'air', 'pollution', ',', 'avoid', 'bursting', 'crackers', 'festival', 'using', 'public', 'transport', 'carpool', 'reduce', 'air', 'pollution', 'cutting', 'usage', 'loud', 'loudspeaker', ',', 'public', 'honking', 'would', 'help', 'noise', 'pollution', '.', 'always', 'aware', 'situation', 'take', 'measures', 'accordingly', '.', '’', 'us', 'cautious', 'beginning', 'make', 'everyone', 'else', 'surrounding', 'us', 'conscious', 'well', '.', 'take', 'eco-friendly', 'steps', 'like', 'planting', 'trees', ',', 'reducing', 'usage', 'plastic', ',', 'using', 'sustainable', 'products', 'household', 'etc', '.', 'talking', 'pollution', 'entire', 'world', ',', 'always', 'remember', 'every', 'small', 'step', 'lead', 'bigger', 'impact', 'one', 'day', '.', 'nutshell', ',', 'every', 'kind', 'pollution', 'leaves', 'huge', 'negative', 'impact', 'environment', ',', 'human', 'lives', ',', 'animals', 'etc', '.', ',', 'responsible', 'citizens', ',', 'must', 'take', 'steps', 'towards', 'better', 'tomorrow', '.', 'must', 'join', 'hands', 'take', 'various', 'initiatives', 'fight', 'problem', '.', 'lot', 'innocent', 'lives', 'put', 'danger', 'due', 'pollution', 'every', 'day', '.', '’', 'anything', 'take', 'stand', 'make', 'earth', 'pollution-free', ',', 'doomsday', 'upon', 'us', 'soon', '.', 'pollution', 'become', 'common', 'yet', 'serious', 'issue', 'today', '’', 'world', '.', 'different', 'forms', 'since', 'long', 'time', 'even', 'human', 'evolution', 'volcanic', 'eruptions', ',', 'wildfire', 'lead', 'various', 'photochemical', 'reactions', 'atmosphere', '.', 'current', 'concern', 'rising', 'day', 'day', 'due', 'various', 'resources', 'pollutants', '.', ',', 'one', 'main', 'pollutants', 'humans', 'man-made', 'machines', '.', 'right', 'say', 'pollution', 'damaging', 'mother', 'earth', 'severely', ',', 'humans', ',', 'play', 'part', 'prevent', 'happening', '.']\n"
     ]
    }
   ],
   "source": [
    "from nltk.corpus import stopwords\n",
    "stopword = stopwords.words('english')\n",
    "word_tokens = nltk.word_tokenize(text)\n",
    "removing_stopwords = [word for word in word_tokens if word not in stopword]\n",
    "print (removing_stopwords)"
   ]
  },
  {
   "cell_type": "markdown",
   "id": "3c04440c",
   "metadata": {},
   "source": [
    "## Stemming (Porter Stemmer Algorithm)"
   ]
  },
  {
   "cell_type": "code",
   "execution_count": 12,
   "id": "db07d02f",
   "metadata": {},
   "outputs": [
    {
     "name": "stdout",
     "output_type": "stream",
     "text": [
      "['upon', 'learn', 'about', 'the', 'harm', 'effect', 'of', 'pollut', ',', 'it', 'is', 'everyon', '’', 's', 'respons', 'to', 'take', 'some', 'step', 'toward', 'prevent', '.', 'we', 'should', 'be', 'awar', 'of', 'all', 'the', 'possibl', 'prevent', 'measur', 'to', 'help', 'reduc', 'everi', 'kind', 'of', 'pollut', 'such', 'as', 'to', 'curb', 'air', 'pollut', ',', 'we', 'should', 'avoid', 'burst', 'cracker', 'dure', 'ani', 'festiv', 'or', 'use', 'public', 'transport', 'or', 'carpool', 'to', 'reduc', 'air', 'pollut', 'or', 'cut', 'down', 'the', 'usag', 'of', 'loud', 'loudspeak', ',', 'and', 'public', 'honk', 'would', 'help', 'in', 'nois', 'pollut', '.', 'we', 'should', 'alway', 'be', 'awar', 'of', 'this', 'situat', 'and', 'take', 'measur', 'accord', '.', 'it', '’', 's', 'us', 'who', 'should', 'be', 'cautious', 'in', 'the', 'begin', 'and', 'make', 'everyon', 'els', 'surround', 'us', 'conscious', 'as', 'well', '.', 'we', 'should', 'take', 'eco-friend', 'step', 'like', 'plant', 'more', 'tree', ',', 'reduc', 'the', 'usag', 'of', 'plastic', ',', 'use', 'more', 'sustain', 'product', 'in', 'the', 'household', 'etc', '.', 'while', 'talk', 'about', 'the', 'pollut', 'of', 'the', 'entir', 'world', ',', 'you', 'should', 'alway', 'rememb', 'that', 'everi', 'small', 'step', 'will', 'lead', 'to', 'a', 'bigger', 'impact', 'one', 'day', '.', 'in', 'a', 'nutshel', ',', 'everi', 'kind', 'of', 'pollut', 'leav', 'a', 'huge', 'negat', 'impact', 'on', 'our', 'environ', ',', 'human', 'live', ',', 'anim', 'etc', '.', 'we', ',', 'as', 'respons', 'citizen', ',', 'must', 'take', 'step', 'toward', 'a', 'better', 'tomorrow', '.', 'we', 'must', 'join', 'hand', 'to', 'take', 'various', 'initi', 'and', 'fight', 'against', 'this', 'problem', '.', 'a', 'lot', 'of', 'innoc', 'live', 'are', 'put', 'in', 'danger', 'due', 'to', 'pollut', 'everi', 'day', '.', 'if', 'we', 'don', '’', 't', 'do', 'anyth', 'from', 'now', 'on', 'or', 'take', 'a', 'stand', 'to', 'make', 'the', 'earth', 'pollution-fre', ',', 'then', 'the', 'doomsday', 'will', 'be', 'upon', 'us', 'veri', 'soon', '.', 'pollut', 'has', 'becom', 'a', 'veri', 'common', 'yet', 'serious', 'issu', 'in', 'today', '’', 's', 'world', '.', 'it', 'has', 'been', 'there', 'in', 'differ', 'form', 'sinc', 'a', 'long', 'time', 'even', 'befor', 'human', 'evolut', 'such', 'as', 'volcan', 'erupt', ',', 'wildfir', 'which', 'lead', 'to', 'various', 'photochem', 'reaction', 'in', 'the', 'atmospher', '.', 'the', 'current', 'concern', 'is', 'that', 'it', 'is', 'rise', 'day', 'by', 'day', 'due', 'to', 'various', 'resourc', 'of', 'pollut', '.', 'and', ',', 'one', 'of', 'the', 'main', 'pollut', 'are', 'human', 'and', 'man-mad', 'machin', '.', 'it', 'is', 'right', 'to', 'say', 'that', 'pollut', 'is', 'damag', 'the', 'mother', 'earth', 'sever', 'and', 'we', ',', 'human', ',', 'should', 'play', 'our', 'part', 'to', 'prevent', 'it', 'from', 'happen', '.']\n"
     ]
    }
   ],
   "source": [
    "from nltk.stem import SnowballStemmer\n",
    "stopword = stopwords.words('english')\n",
    "snowball_stemmer = SnowballStemmer('english')\n",
    "word_tokens = nltk.word_tokenize(text)\n",
    "stemmed_word = [snowball_stemmer.stem(word) for word in word_tokens]\n",
    "print (stemmed_word)"
   ]
  },
  {
   "cell_type": "markdown",
   "id": "50c10d01",
   "metadata": {},
   "source": [
    "## Lemmatization"
   ]
  },
  {
   "cell_type": "code",
   "execution_count": 13,
   "id": "3cf3ff7c",
   "metadata": {},
   "outputs": [
    {
     "name": "stderr",
     "output_type": "stream",
     "text": [
      "[nltk_data] Downloading package wordnet to\n",
      "[nltk_data]     C:\\Users\\Home\\AppData\\Roaming\\nltk_data...\n"
     ]
    },
    {
     "data": {
      "text/plain": [
       "True"
      ]
     },
     "execution_count": 13,
     "metadata": {},
     "output_type": "execute_result"
    }
   ],
   "source": [
    "import nltk\n",
    "nltk.download('wordnet')"
   ]
  },
  {
   "cell_type": "code",
   "execution_count": 14,
   "id": "0d72ff2e",
   "metadata": {},
   "outputs": [
    {
     "name": "stdout",
     "output_type": "stream",
     "text": [
      "['upon', 'learning', 'about', 'the', 'harmful', 'effect', 'of', 'pollution', ',', 'it', 'is', 'everyone', '’', 's', 'responsibility', 'to', 'take', 'some', 'step', 'towards', 'prevention', '.', 'we', 'should', 'be', 'aware', 'of', 'all', 'the', 'possible', 'preventive', 'measure', 'to', 'help', 'reduce', 'every', 'kind', 'of', 'pollution', 'such', 'a', 'to', 'curb', 'air', 'pollution', ',', 'we', 'should', 'avoid', 'bursting', 'cracker', 'during', 'any', 'festival', 'or', 'using', 'public', 'transport', 'or', 'carpool', 'to', 'reduce', 'air', 'pollution', 'or', 'cutting', 'down', 'the', 'usage', 'of', 'loud', 'loudspeaker', ',', 'and', 'public', 'honking', 'would', 'help', 'in', 'noise', 'pollution', '.', 'we', 'should', 'always', 'be', 'aware', 'of', 'this', 'situation', 'and', 'take', 'measure', 'accordingly', '.', 'it', '’', 's', 'u', 'who', 'should', 'be', 'cautious', 'in', 'the', 'beginning', 'and', 'make', 'everyone', 'else', 'surrounding', 'u', 'conscious', 'a', 'well', '.', 'we', 'should', 'take', 'eco-friendly', 'step', 'like', 'planting', 'more', 'tree', ',', 'reducing', 'the', 'usage', 'of', 'plastic', ',', 'using', 'more', 'sustainable', 'product', 'in', 'the', 'household', 'etc', '.', 'while', 'talking', 'about', 'the', 'pollution', 'of', 'the', 'entire', 'world', ',', 'you', 'should', 'always', 'remember', 'that', 'every', 'small', 'step', 'will', 'lead', 'to', 'a', 'bigger', 'impact', 'one', 'day', '.', 'in', 'a', 'nutshell', ',', 'every', 'kind', 'of', 'pollution', 'leaf', 'a', 'huge', 'negative', 'impact', 'on', 'our', 'environment', ',', 'human', 'life', ',', 'animal', 'etc', '.', 'we', ',', 'a', 'responsible', 'citizen', ',', 'must', 'take', 'step', 'towards', 'a', 'better', 'tomorrow', '.', 'we', 'must', 'join', 'hand', 'to', 'take', 'various', 'initiative', 'and', 'fight', 'against', 'this', 'problem', '.', 'a', 'lot', 'of', 'innocent', 'life', 'are', 'put', 'in', 'danger', 'due', 'to', 'pollution', 'every', 'day', '.', 'if', 'we', 'don', '’', 't', 'do', 'anything', 'from', 'now', 'on', 'or', 'take', 'a', 'stand', 'to', 'make', 'the', 'earth', 'pollution-free', ',', 'then', 'the', 'doomsday', 'will', 'be', 'upon', 'u', 'very', 'soon', '.', 'pollution', 'ha', 'become', 'a', 'very', 'common', 'yet', 'serious', 'issue', 'in', 'today', '’', 's', 'world', '.', 'it', 'ha', 'been', 'there', 'in', 'different', 'form', 'since', 'a', 'long', 'time', 'even', 'before', 'human', 'evolution', 'such', 'a', 'volcanic', 'eruption', ',', 'wildfire', 'which', 'lead', 'to', 'various', 'photochemical', 'reaction', 'in', 'the', 'atmosphere', '.', 'the', 'current', 'concern', 'is', 'that', 'it', 'is', 'rising', 'day', 'by', 'day', 'due', 'to', 'various', 'resource', 'of', 'pollutant', '.', 'and', ',', 'one', 'of', 'the', 'main', 'pollutant', 'are', 'human', 'and', 'man-made', 'machine', '.', 'it', 'is', 'right', 'to', 'say', 'that', 'pollution', 'is', 'damaging', 'the', 'mother', 'earth', 'severely', 'and', 'we', ',', 'human', ',', 'should', 'play', 'our', 'part', 'to', 'prevent', 'it', 'from', 'happening', '.']\n"
     ]
    }
   ],
   "source": [
    "from nltk.stem import WordNetLemmatizer\n",
    "stopword = stopwords.words('english')\n",
    "wordnet_lemmatizer = WordNetLemmatizer()\n",
    "word_tokens = nltk.word_tokenize(text)\n",
    "lemmatized_word = [wordnet_lemmatizer.lemmatize(word) for word in word_tokens]\n",
    "print (lemmatized_word)"
   ]
  },
  {
   "cell_type": "markdown",
   "id": "3e1cd091",
   "metadata": {},
   "source": [
    "## POS Tagging"
   ]
  },
  {
   "cell_type": "code",
   "execution_count": 17,
   "id": "79a00852",
   "metadata": {
    "scrolled": true
   },
   "outputs": [
    {
     "name": "stderr",
     "output_type": "stream",
     "text": [
      "[nltk_data] Downloading package averaged_perceptron_tagger to\n",
      "[nltk_data]     C:\\Users\\Home\\AppData\\Roaming\\nltk_data...\n",
      "[nltk_data]   Unzipping taggers\\averaged_perceptron_tagger.zip.\n"
     ]
    },
    {
     "data": {
      "text/plain": [
       "True"
      ]
     },
     "execution_count": 17,
     "metadata": {},
     "output_type": "execute_result"
    }
   ],
   "source": [
    "nltk.download('averaged_perceptron_tagger')"
   ]
  },
  {
   "cell_type": "code",
   "execution_count": 18,
   "id": "d61252a5",
   "metadata": {
    "scrolled": false
   },
   "outputs": [
    {
     "name": "stdout",
     "output_type": "stream",
     "text": [
      "[('upon', 'IN'), ('learning', 'VBG'), ('about', 'IN'), ('the', 'DT'), ('harmful', 'JJ'), ('effects', 'NNS'), ('of', 'IN'), ('pollution', 'NN'), (',', ','), ('it', 'PRP'), ('is', 'VBZ'), ('everyone', 'NN'), ('’', 'JJ'), ('s', 'NN'), ('responsibility', 'NN'), ('to', 'TO'), ('take', 'VB'), ('some', 'DT'), ('steps', 'NNS'), ('towards', 'NNS'), ('prevention', 'NN'), ('.', '.'), ('we', 'PRP'), ('should', 'MD'), ('be', 'VB'), ('aware', 'JJ'), ('of', 'IN'), ('all', 'PDT'), ('the', 'DT'), ('possible', 'JJ'), ('preventive', 'JJ'), ('measures', 'NNS'), ('to', 'TO'), ('help', 'VB'), ('reduce', 'VB'), ('every', 'DT'), ('kind', 'NN'), ('of', 'IN'), ('pollution', 'NN'), ('such', 'JJ'), ('as', 'IN'), ('to', 'TO'), ('curb', 'VB'), ('air', 'NN'), ('pollution', 'NN'), (',', ','), ('we', 'PRP'), ('should', 'MD'), ('avoid', 'VB'), ('bursting', 'VBG'), ('crackers', 'NNS'), ('during', 'IN'), ('any', 'DT'), ('festival', 'NN'), ('or', 'CC'), ('using', 'VBG'), ('public', 'JJ'), ('transport', 'NN'), ('or', 'CC'), ('carpool', 'NN'), ('to', 'TO'), ('reduce', 'VB'), ('air', 'NN'), ('pollution', 'NN'), ('or', 'CC'), ('cutting', 'VBG'), ('down', 'RP'), ('the', 'DT'), ('usage', 'NN'), ('of', 'IN'), ('loud', 'JJ'), ('loudspeaker', 'NN'), (',', ','), ('and', 'CC'), ('public', 'JJ'), ('honking', 'NN'), ('would', 'MD'), ('help', 'VB'), ('in', 'IN'), ('noise', 'DT'), ('pollution', 'NN'), ('.', '.'), ('we', 'PRP'), ('should', 'MD'), ('always', 'RB'), ('be', 'VB'), ('aware', 'JJ'), ('of', 'IN'), ('this', 'DT'), ('situation', 'NN'), ('and', 'CC'), ('take', 'VB'), ('measures', 'NNS'), ('accordingly', 'RB'), ('.', '.'), ('it', 'PRP'), ('’', 'VBD'), ('s', 'JJ'), ('us', 'PRP'), ('who', 'WP'), ('should', 'MD'), ('be', 'VB'), ('cautious', 'JJ'), ('in', 'IN'), ('the', 'DT'), ('beginning', 'NN'), ('and', 'CC'), ('make', 'VB'), ('everyone', 'NN'), ('else', 'RB'), ('surrounding', 'VBG'), ('us', 'PRP'), ('conscious', 'JJ'), ('as', 'IN'), ('well', 'RB'), ('.', '.'), ('we', 'PRP'), ('should', 'MD'), ('take', 'VB'), ('eco-friendly', 'JJ'), ('steps', 'NNS'), ('like', 'IN'), ('planting', 'VBG'), ('more', 'JJR'), ('trees', 'NNS'), (',', ','), ('reducing', 'VBG'), ('the', 'DT'), ('usage', 'NN'), ('of', 'IN'), ('plastic', 'NN'), (',', ','), ('using', 'VBG'), ('more', 'RBR'), ('sustainable', 'JJ'), ('products', 'NNS'), ('in', 'IN'), ('the', 'DT'), ('household', 'NN'), ('etc', 'NN'), ('.', '.'), ('while', 'IN'), ('talking', 'VBG'), ('about', 'IN'), ('the', 'DT'), ('pollution', 'NN'), ('of', 'IN'), ('the', 'DT'), ('entire', 'JJ'), ('world', 'NN'), (',', ','), ('you', 'PRP'), ('should', 'MD'), ('always', 'RB'), ('remember', 'VB'), ('that', 'IN'), ('every', 'DT'), ('small', 'JJ'), ('step', 'NN'), ('will', 'MD'), ('lead', 'VB'), ('to', 'TO'), ('a', 'DT'), ('bigger', 'JJR'), ('impact', 'JJ'), ('one', 'CD'), ('day', 'NN'), ('.', '.'), ('in', 'IN'), ('a', 'DT'), ('nutshell', 'NN'), (',', ','), ('every', 'DT'), ('kind', 'NN'), ('of', 'IN'), ('pollution', 'NN'), ('leaves', 'VBZ'), ('a', 'DT'), ('huge', 'JJ'), ('negative', 'JJ'), ('impact', 'NN'), ('on', 'IN'), ('our', 'PRP$'), ('environment', 'NN'), (',', ','), ('human', 'JJ'), ('lives', 'NNS'), (',', ','), ('animals', 'NNS'), ('etc', 'VBP'), ('.', '.'), ('we', 'PRP'), (',', ','), ('as', 'IN'), ('responsible', 'JJ'), ('citizens', 'NNS'), (',', ','), ('must', 'MD'), ('take', 'VB'), ('steps', 'NNS'), ('towards', 'IN'), ('a', 'DT'), ('better', 'JJR'), ('tomorrow', 'NN'), ('.', '.'), ('we', 'PRP'), ('must', 'MD'), ('join', 'VB'), ('hands', 'NNS'), ('to', 'TO'), ('take', 'VB'), ('various', 'JJ'), ('initiatives', 'NNS'), ('and', 'CC'), ('fight', 'NN'), ('against', 'IN'), ('this', 'DT'), ('problem', 'NN'), ('.', '.'), ('a', 'DT'), ('lot', 'NN'), ('of', 'IN'), ('innocent', 'JJ'), ('lives', 'NNS'), ('are', 'VBP'), ('put', 'VBN'), ('in', 'IN'), ('danger', 'NN'), ('due', 'JJ'), ('to', 'TO'), ('pollution', 'VB'), ('every', 'DT'), ('day', 'NN'), ('.', '.'), ('if', 'IN'), ('we', 'PRP'), ('don', 'VBP'), ('’', 'JJ'), ('t', 'NN'), ('do', 'VBP'), ('anything', 'NN'), ('from', 'IN'), ('now', 'RB'), ('on', 'IN'), ('or', 'CC'), ('take', 'VB'), ('a', 'DT'), ('stand', 'NN'), ('to', 'TO'), ('make', 'VB'), ('the', 'DT'), ('earth', 'NN'), ('pollution-free', 'JJ'), (',', ','), ('then', 'RB'), ('the', 'DT'), ('doomsday', 'NN'), ('will', 'MD'), ('be', 'VB'), ('upon', 'IN'), ('us', 'PRP'), ('very', 'RB'), ('soon', 'RB'), ('.', '.'), ('pollution', 'NN'), ('has', 'VBZ'), ('become', 'VBN'), ('a', 'DT'), ('very', 'RB'), ('common', 'JJ'), ('yet', 'RB'), ('serious', 'JJ'), ('issue', 'NN'), ('in', 'IN'), ('today', 'NN'), ('’', 'NNP'), ('s', 'NN'), ('world', 'NN'), ('.', '.'), ('it', 'PRP'), ('has', 'VBZ'), ('been', 'VBN'), ('there', 'RB'), ('in', 'IN'), ('different', 'JJ'), ('forms', 'NNS'), ('since', 'IN'), ('a', 'DT'), ('long', 'JJ'), ('time', 'NN'), ('even', 'RB'), ('before', 'IN'), ('human', 'JJ'), ('evolution', 'NN'), ('such', 'JJ'), ('as', 'IN'), ('volcanic', 'JJ'), ('eruptions', 'NNS'), (',', ','), ('wildfire', 'NN'), ('which', 'WDT'), ('lead', 'VBP'), ('to', 'TO'), ('various', 'JJ'), ('photochemical', 'JJ'), ('reactions', 'NNS'), ('in', 'IN'), ('the', 'DT'), ('atmosphere', 'NN'), ('.', '.'), ('the', 'DT'), ('current', 'JJ'), ('concern', 'NN'), ('is', 'VBZ'), ('that', 'IN'), ('it', 'PRP'), ('is', 'VBZ'), ('rising', 'VBG'), ('day', 'NN'), ('by', 'IN'), ('day', 'NN'), ('due', 'JJ'), ('to', 'TO'), ('various', 'JJ'), ('resources', 'NNS'), ('of', 'IN'), ('pollutants', 'NNS'), ('.', '.'), ('and', 'CC'), (',', ','), ('one', 'CD'), ('of', 'IN'), ('the', 'DT'), ('main', 'JJ'), ('pollutants', 'NNS'), ('are', 'VBP'), ('humans', 'NNS'), ('and', 'CC'), ('man-made', 'JJ'), ('machines', 'NNS'), ('.', '.'), ('it', 'PRP'), ('is', 'VBZ'), ('right', 'JJ'), ('to', 'TO'), ('say', 'VB'), ('that', 'DT'), ('pollution', 'NN'), ('is', 'VBZ'), ('damaging', 'VBG'), ('the', 'DT'), ('mother', 'NN'), ('earth', 'NN'), ('severely', 'RB'), ('and', 'CC'), ('we', 'PRP'), (',', ','), ('humans', 'NNS'), (',', ','), ('should', 'MD'), ('play', 'VB'), ('our', 'PRP$'), ('part', 'NN'), ('to', 'TO'), ('prevent', 'VB'), ('it', 'PRP'), ('from', 'IN'), ('happening', 'VBG'), ('.', '.')]\n"
     ]
    }
   ],
   "source": [
    "word = nltk.word_tokenize(text)\n",
    "pos_tag = nltk.pos_tag(word)\n",
    "print (pos_tag)"
   ]
  }
 ],
 "metadata": {
  "kernelspec": {
   "display_name": "Python 3 (ipykernel)",
   "language": "python",
   "name": "python3"
  },
  "language_info": {
   "codemirror_mode": {
    "name": "ipython",
    "version": 3
   },
   "file_extension": ".py",
   "mimetype": "text/x-python",
   "name": "python",
   "nbconvert_exporter": "python",
   "pygments_lexer": "ipython3",
   "version": "3.9.7"
  }
 },
 "nbformat": 4,
 "nbformat_minor": 5
}
